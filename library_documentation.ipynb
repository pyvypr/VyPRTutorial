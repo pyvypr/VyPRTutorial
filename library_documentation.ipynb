{
 "cells": [
  {
   "cell_type": "markdown",
   "metadata": {},
   "source": [
    "# Import the library"
   ]
  },
  {
   "cell_type": "code",
   "execution_count": 1,
   "metadata": {},
   "outputs": [],
   "source": [
    "import VyPR_analysis as analysis"
   ]
  },
  {
   "cell_type": "markdown",
   "metadata": {},
   "source": [
    "# Setting the URL of the verdict server"
   ]
  },
  {
   "cell_type": "markdown",
   "metadata": {},
   "source": [
    "In order to change the default server URL, use function set_server with the string containing the new address as an argument."
   ]
  },
  {
   "cell_type": "code",
   "execution_count": 2,
   "metadata": {},
   "outputs": [],
   "source": [
    "analysis.set_server(\"http://localhost:9005/\")"
   ]
  },
  {
   "cell_type": "markdown",
   "metadata": {},
   "source": [
    "# Initialising a class"
   ]
  },
  {
   "cell_type": "markdown",
   "metadata": {},
   "source": [
    "The name of each class and its attributes match the names of the corresponding table and its columns in the database. In order to initialise an object of class, it is required to pass one or more arguments to the initialising function. In all cases, passing just the ID of the object is enough, as this attribute always determines a row of the table in the database uniquely. However, in some of the tables there are other attributes that belong to a unique row in the table, i.e. the so-called atom index, the name of the function etc. In these cases, it is also possible to initialise the class by passing just one argument. The initialising function then queries the database to get the corresponding row in the table and creates a class with all attributes values.\n",
    "For example, in order to get a variable of class type function, you can use one of the options shown below. The first and the second ones are used to find a row in table function with id=1, wheareas the last one determines a row in the table by its name attribute.\n"
   ]
  },
  {
   "cell_type": "code",
   "execution_count": 3,
   "metadata": {},
   "outputs": [],
   "source": [
    "f1=analysis.function(1)\n",
    "f1=analysis.function(id=1)\n",
    "f1=analysis.function(fully_qualified_name=\"app.routes.paths_branching_test\")\n"
   ]
  },
  {
   "cell_type": "markdown",
   "metadata": {},
   "source": [
    "Note: in case there are more functions with the same name (which shouldn't happen), the class is initialised as one of the rows without raising an error that there are more of them with the same value."
   ]
  },
  {
   "cell_type": "markdown",
   "metadata": {},
   "source": [
    "As some functions in the library, and possibly others defined by the user, might return all the attributes in the row, in order to avoid the inefficiency of querying the database to find what is already known, it is also possible to define the class variable by passing all of the values to the initialising function which, in this case, assigns the given values to corresponding attributes without connecting to the database.\n"
   ]
  },
  {
   "cell_type": "code",
   "execution_count": 3,
   "metadata": {},
   "outputs": [],
   "source": [
    "f1=analysis.function(id=1, fully_qualified_name='app.routes.paths_branching_test', property='734d1510681a11c32da16934e170c70804b5328b')"
   ]
  },
  {
   "cell_type": "code",
   "execution_count": 4,
   "metadata": {},
   "outputs": [
    {
     "name": "stdout",
     "output_type": "stream",
     "text": [
      "app.routes.paths_branching_test\n"
     ]
    }
   ],
   "source": [
    "print(f1.fully_qualified_name)"
   ]
  },
  {
   "cell_type": "markdown",
   "metadata": {},
   "source": [
    "# Object functions"
   ]
  },
  {
   "cell_type": "markdown",
   "metadata": {},
   "source": [
    "Apart from attributes that each class has, for some of the classes it makes sense to define certain functions. In this section it is described how to use the functions which are defined within a class. Functions are listed as class_name.function_name and followed by their description."
   ]
  },
  {
   "cell_type": "markdown",
   "metadata": {},
   "source": [
    "### function.get_calls() "
   ]
  },
  {
   "cell_type": "markdown",
   "metadata": {},
   "source": [
    "This function returns a list of function_call objects that are the calls of the given function. If passed an optional argument, it returns the list of such calls, but during the http request with given ID value.\n",
    "\n",
    "Example:"
   ]
  },
  {
   "cell_type": "code",
   "execution_count": 5,
   "metadata": {},
   "outputs": [
    {
     "name": "stdout",
     "output_type": "stream",
     "text": [
      "17\n"
     ]
    }
   ],
   "source": [
    "calls_list=f1.get_calls()\n",
    "print(len(calls_list))"
   ]
  },
  {
   "cell_type": "markdown",
   "metadata": {},
   "source": [
    "### function.get_calls_with_verdict(verdict_value)"
   ]
  },
  {
   "cell_type": "markdown",
   "metadata": {},
   "source": [
    "This function returns a list of function_call classes such that they are calls of the given function and their verdicts are true (verdict_value=1) or false (verdict_value=0)."
   ]
  },
  {
   "cell_type": "markdown",
   "metadata": {},
   "source": [
    "### function.get_graph()"
   ]
  },
  {
   "cell_type": "markdown",
   "metadata": {},
   "source": [
    "This function returns the SCFG of the given function."
   ]
  },
  {
   "cell_type": "markdown",
   "metadata": {},
   "source": [
    "### function_call.get_falsifying_observation() "
   ]
  },
  {
   "cell_type": "markdown",
   "metadata": {},
   "source": [
    "Returns the first (with respect to verdicts) observation that causes failure for the given call."
   ]
  },
  {
   "cell_type": "markdown",
   "metadata": {},
   "source": [
    "### function_call.get_verdicts() "
   ]
  },
  {
   "cell_type": "markdown",
   "metadata": {},
   "source": [
    "Returns a list of verdicts for the given function call."
   ]
  },
  {
   "cell_type": "markdown",
   "metadata": {},
   "source": [
    "### function_call.get_observations()"
   ]
  },
  {
   "cell_type": "markdown",
   "metadata": {},
   "source": [
    "Creates a list of observation classes that occurred during the given function call."
   ]
  },
  {
   "cell_type": "markdown",
   "metadata": {},
   "source": [
    "### verdict.get_property_hash()"
   ]
  },
  {
   "cell_type": "markdown",
   "metadata": {},
   "source": [
    "This object function within a verdict class finds the function which the verdict concerns and returns its property hash attribute."
   ]
  },
  {
   "cell_type": "markdown",
   "metadata": {},
   "source": [
    "### verdict.get_collapsing_atom() "
   ]
  },
  {
   "cell_type": "markdown",
   "metadata": {},
   "source": [
    "Returns an atom object which is the collapsing atom of the verdict."
   ]
  },
  {
   "cell_type": "markdown",
   "metadata": {},
   "source": [
    "### http_request.get_calls()"
   ]
  },
  {
   "cell_type": "markdown",
   "metadata": {},
   "source": [
    "Returns a list of function_call objects that occurred during the given request."
   ]
  },
  {
   "cell_type": "markdown",
   "metadata": {},
   "source": [
    "### atom.get_structure()"
   ]
  },
  {
   "cell_type": "markdown",
   "metadata": {},
   "source": [
    "Desiralises the formula structure in the atom object."
   ]
  },
  {
   "cell_type": "markdown",
   "metadata": {},
   "source": [
    "### instrumentation_point.get_observations()"
   ]
  },
  {
   "cell_type": "markdown",
   "metadata": {},
   "source": [
    "For the given instrumentation point class, this function creates and returns a list of observations (as classes) which concern this instrumentation point."
   ]
  },
  {
   "cell_type": "markdown",
   "metadata": {},
   "source": [
    "### observation.get_assingments()"
   ]
  },
  {
   "cell_type": "markdown",
   "metadata": {},
   "source": [
    "Returns a list of assignment objects concerning the given observation."
   ]
  },
  {
   "cell_type": "markdown",
   "metadata": {},
   "source": [
    "### observation.get_assingments_as_dictionary()"
   ]
  },
  {
   "cell_type": "markdown",
   "metadata": {},
   "source": [
    "Has the same function as the previously listed function get_assignments(), but returns the assignments in a dictionary format."
   ]
  },
  {
   "cell_type": "markdown",
   "metadata": {},
   "source": [
    "### observation.verdict_severity()"
   ]
  },
  {
   "cell_type": "markdown",
   "metadata": {},
   "source": [
    "Calculates the minimum distance between the observed value and the constraint defined by its atom, assigned a positive sign if the condition is satisfied and a negative one if not."
   ]
  },
  {
   "cell_type": "markdown",
   "metadata": {},
   "source": [
    "### observation.get_instrumentation_point()"
   ]
  },
  {
   "cell_type": "markdown",
   "metadata": {},
   "source": [
    "Returns a variable of class instrumentation_point that describes the instrumentation point at which the observation was made."
   ]
  },
  {
   "cell_type": "markdown",
   "metadata": {},
   "source": [
    "# Other functions"
   ]
  },
  {
   "cell_type": "markdown",
   "metadata": {},
   "source": [
    "In this section, functions that do not belong to a certain class are listed."
   ]
  },
  {
   "cell_type": "markdown",
   "metadata": {},
   "source": [
    "### list_verdicts_with_value(verdict_value)"
   ]
  },
  {
   "cell_type": "markdown",
   "metadata": {},
   "source": [
    "For a given verdict_value which is either zero 0 or 1, the function returns a list of verdict objects that failed (verdict_value=0) or managed (verdict_value=1) to satisfy the constraint."
   ]
  },
  {
   "cell_type": "markdown",
   "metadata": {},
   "source": [
    "### list_verdicts_dict_with_value(verdict_value)"
   ]
  },
  {
   "cell_type": "markdown",
   "metadata": {},
   "source": [
    "For a given verdict_value which is either zero 0 or 1, the function returns a list of verdict objects that failed (verdict_value=0) or managed (verdict_value=1) to satisfy the constraint, but in a form of a dictionary containing additional possibly useful keys and values:\n",
    "- from verdict: id, binding, verdict, time_obtained\n",
    "- from function_call: function, time_of_call\n",
    "- from function: fully_qualified_name, property\n",
    "\n",
    "Example:"
   ]
  },
  {
   "cell_type": "code",
   "execution_count": 4,
   "metadata": {},
   "outputs": [
    {
     "name": "stdout",
     "output_type": "stream",
     "text": [
      "('function id=', 1)\n",
      "('verdict time:', u'2019-07-26T17:07:39.629844')\n",
      "('function id=', 1)\n",
      "('verdict time:', u'2019-07-26T17:07:47.192589')\n",
      "('function id=', 1)\n",
      "('verdict time:', u'2019-07-26T17:07:54.695540')\n",
      "('function id=', 1)\n",
      "('verdict time:', u'2019-07-26T17:07:58.407936')\n",
      "('function id=', 1)\n",
      "('verdict time:', u'2019-07-26T17:08:09.297629')\n",
      "('function id=', 1)\n",
      "('verdict time:', u'2019-07-26T17:08:22.998273')\n",
      "('function id=', 1)\n",
      "('verdict time:', u'2019-07-26T17:08:27.889892')\n",
      "('function id=', 1)\n",
      "('verdict time:', u'2019-07-26T17:08:55.653250')\n",
      "('function id=', 1)\n",
      "('verdict time:', u'2019-07-26T17:09:00.301002')\n",
      "('function id=', 1)\n",
      "('verdict time:', u'2019-07-26T17:09:06.693024')\n"
     ]
    }
   ],
   "source": [
    "true_verdicts=analysis.list_verdicts_dict_with_value(1)\n",
    "for v in true_verdicts:\n",
    "\tprint(\"function id=\",v[\"function\"])\n",
    "\tprint(\"verdict time:\",v[\"time_obtained\"])"
   ]
  },
  {
   "cell_type": "markdown",
   "metadata": {},
   "source": [
    "### get_atom_list(verdict_value)"
   ]
  },
  {
   "cell_type": "markdown",
   "metadata": {},
   "source": [
    "Returns a list of atom objects that are collapsing atoms of all true (verdict_value=1) or false (verdict_value=0) verdicts.\n",
    "\n",
    "Example:"
   ]
  },
  {
   "cell_type": "code",
   "execution_count": 7,
   "metadata": {},
   "outputs": [
    {
     "name": "stdout",
     "output_type": "stream",
     "text": [
      "d((s = StaticState(changes=a)).next_call(f, record=['a'])) in [0, 1]\n"
     ]
    }
   ],
   "source": [
    "list=analysis.get_atom_list(0)\n",
    "print(list[0].get_structure())"
   ]
  },
  {
   "cell_type": "markdown",
   "metadata": {},
   "source": [
    "### write_scfg(scfg_object,file_name)"
   ]
  },
  {
   "cell_type": "markdown",
   "metadata": {},
   "source": [
    "Writes a graph of the scfg into the file file_name."
   ]
  },
  {
   "cell_type": "markdown",
   "metadata": {},
   "source": [
    "### list_observations()"
   ]
  },
  {
   "cell_type": "markdown",
   "metadata": {},
   "source": [
    "Returns a list of items with type class observation."
   ]
  },
  {
   "cell_type": "markdown",
   "metadata": {},
   "source": [
    "# Plot: verdict severity vs time"
   ]
  },
  {
   "cell_type": "markdown",
   "metadata": {},
   "source": [
    "Apart from an observation not satisfying the constraint, it might be of interest to know by how much it violates it. If it does satisfy the constraint, how close is it to violation? The function 'verdict_severity' in the analysis library measures the distance between the observed value and the interval boundaries, assigned a negative sign if the value is not in the interval.\n",
    "\n",
    "In order to analyse if there are values assigned to the variables at that instrumentation point which are more likely to cause a failure, we group the observations by valuations and create a separate plot for each 'group'."
   ]
  },
  {
   "cell_type": "code",
   "execution_count": 5,
   "metadata": {},
   "outputs": [
    {
     "data": {
      "image/png": "[encoded data removed]",
      "text/plain": [
       "<Figure size 432x288 with 1 Axes>"
      ]
     },
     "metadata": {
      "needs_background": "light"
     },
     "output_type": "display_data"
    },
    {
     "data": {
      "image/png": "[encoded data removed]",
      "text/plain": [
       "<Figure size 432x288 with 1 Axes>"
      ]
     },
     "metadata": {
      "needs_background": "light"
     },
     "output_type": "display_data"
    },
    {
     "data": {
      "image/png": "[encoded data removed]",
      "text/plain": [
       "<Figure size 432x288 with 1 Axes>"
      ]
     },
     "metadata": {
      "needs_background": "light"
     },
     "output_type": "display_data"
    },
    {
     "data": {
      "image/png": "[encoded data removed]",
      "text/plain": [
       "<Figure size 432x288 with 1 Axes>"
      ]
     },
     "metadata": {
      "needs_background": "light"
     },
     "output_type": "display_data"
    }
   ],
   "source": [
    "%matplotlib inline\n",
    "import matplotlib.pyplot as plt\n",
    "from datetime import datetime\n",
    "import pickle\n",
    "\n",
    "def plot_severity_vs_time(f,severity_function=analysis.verdict_severity):\n",
    "    #get a function call of the given function such that there was a failure during the call\n",
    "    call=f.get_calls_with_verdict(0)[0]\n",
    "\n",
    "    #find the first observation wrt verdicts that caused the failure\n",
    "    failed_observation=call.get_falsifying_observation()\n",
    "\n",
    "    #find the instrumentation point at which the failed observation failed\n",
    "    inst_point=failed_observation.get_instrumentation_point()\n",
    "\n",
    "    #get all the observations of that instrumentation point, whether they failed or not\n",
    "    observations=inst_point.get_observations()\n",
    "    ids=[] #will contain IDs of assignments\n",
    "    t=[]\n",
    "    s=[]\n",
    "\n",
    "    #grouping observations by the assignments they are paired with\n",
    "    #t and s are lists, they have as many elements as there are groups (assignments)\n",
    "    #their elements are lists of time points and verdict severity values\n",
    "    valuations=[]\n",
    "    for obs in observations:\n",
    "        assignments=obs.get_assignments()\n",
    "        #print(obs.id)\n",
    "        final_dict=dict()\n",
    "        for a in assignments:\n",
    "            a=vars(a)\n",
    "            a[\"value\"]=pickle.loads(a[\"value\"])\n",
    "            #print(a)\n",
    "            final_dict[a[\"variable\"]]=a[\"value\"]\n",
    "\n",
    "        if final_dict not in valuations:\n",
    "            valuations.append(final_dict)\n",
    "            t.append([])\n",
    "            s.append([])\n",
    "\n",
    "        time=analysis.verdict(obs.verdict).time_obtained\n",
    "        t[valuations.index(final_dict)].append(datetime.strptime(time,'%Y-%m-%dT%H:%M:%S.%f'))\n",
    "        s[valuations.index(final_dict)].append(severity_function(obs))\n",
    "     \n",
    "    \n",
    "    for v in valuations:\n",
    "        ind=valuations.index(v)\n",
    "        plt.plot(t[ind],s[ind],'ob')\n",
    "        plt.xlabel('time verdict was obtained')\n",
    "        plt.ylabel('verdict severity')\n",
    "        plt.margins(0.05)\n",
    "        plt.show()        \n",
    "        \n",
    "plot_severity_vs_time(f1)"
   ]
  },
  {
   "cell_type": "code",
   "execution_count": null,
   "metadata": {},
   "outputs": [],
   "source": []
  }
 ],
 "metadata": {
  "kernelspec": {
   "display_name": "Python 2",
   "language": "python",
   "name": "python2"
  },
  "language_info": {
   "codemirror_mode": {
    "name": "ipython",
    "version": 2
   },
   "file_extension": ".py",
   "mimetype": "text/x-python",
   "name": "python",
   "nbconvert_exporter": "python",
   "pygments_lexer": "ipython2",
   "version": "2.7.5"
  }
 },
 "nbformat": 4,
 "nbformat_minor": 2
}
